{
 "cells": [
  {
   "cell_type": "markdown",
   "metadata": {},
   "source": [
    "# Portfolio 4"
   ]
  },
  {
   "cell_type": "code",
   "execution_count": 1,
   "metadata": {},
   "outputs": [],
   "source": [
    "import pandas as pd\n",
    "import seaborn as sns\n",
    "import numpy as np\n",
    "from sklearn.preprocessing import LabelEncoder\n",
    "from sklearn.model_selection import train_test_split, GridSearchCV, KFold\n",
    "from sklearn.linear_model import LinearRegression\n",
    "from sklearn.neighbors import KNeighborsClassifier\n",
    "from sklearn.metrics import accuracy_score, r2_score, mean_squared_error"
   ]
  },
  {
   "cell_type": "code",
   "execution_count": 2,
   "metadata": {},
   "outputs": [],
   "source": [
    "student_name = \"Petr Gizatullin\"\n",
    "student_id = \"48101052\""
   ]
  },
  {
   "cell_type": "markdown",
   "metadata": {},
   "source": [
    "## Data\n",
    "\n",
    "For this task I chose to explore and analyse the Australian 2021 Census data and Australian 2022 Federal Election data.\n",
    "\n",
    "### Census\n",
    "The Census dataset (cd) was acquired from Australian Bureau of Statistics. It contains information about the number of people of each age (starting from 18), education level and income bracket in each of Australian Commonwealth Electoral Division as of 2021 Federal Census.\n",
    "|Column|Meaning|\n",
    "|:-----:|:-----:|\n",
    "|Counting|Method of counting|\n",
    "|CED (UR)|Commonwealth Electoral Division|\n",
    "|AGEP Age|Age|\n",
    "|1-digit level HEAP Level of Highest Educational Attainment|Level of Highhest Education|\n",
    "|INCP Total Personal Income (weekly)|Weekly Personal Income bracket|\n",
    "|Count|Number of people in this category|\n",
    "\n",
    "\n",
    "### Election\n",
    "The Election dataset (ed) was acquired from Australian Electoral Commission. It contains information on the results of 2022 Federal Election by Commonwealth Electoral Division (CED), i.e. data about a winning candidate in each Electoral Division in Australia.\n",
    "|Column|Meaning|\n",
    "|:-----:|:-----:|\n",
    "|DivisionID|CED ID|\n",
    "|DivisionNm|CED Name|\n",
    "|StateAb|CED State or Territory|\n",
    "|CandidateID|Winning Candidate's ID|\n",
    "|GivenNm|Winning Candidate's First Name|\n",
    "|Surname|Winning Candidate's Last Name|\n",
    "|PartyNm|Winning Candidate's Party Name|\n",
    "|PartyAb|Winning Candidate's Party Name Abbreviation|"
   ]
  },
  {
   "cell_type": "code",
   "execution_count": 3,
   "metadata": {},
   "outputs": [
    {
     "data": {
      "text/html": [
       "<div>\n",
       "<style scoped>\n",
       "    .dataframe tbody tr th:only-of-type {\n",
       "        vertical-align: middle;\n",
       "    }\n",
       "\n",
       "    .dataframe tbody tr th {\n",
       "        vertical-align: top;\n",
       "    }\n",
       "\n",
       "    .dataframe thead th {\n",
       "        text-align: right;\n",
       "    }\n",
       "</style>\n",
       "<table border=\"1\" class=\"dataframe\">\n",
       "  <thead>\n",
       "    <tr style=\"text-align: right;\">\n",
       "      <th></th>\n",
       "      <th>Counting</th>\n",
       "      <th>CED (UR)</th>\n",
       "      <th>AGEP Age</th>\n",
       "      <th>1-digit level HEAP Level of Highest Educational Attainment</th>\n",
       "      <th>INCP Total Personal Income (weekly)</th>\n",
       "      <th>Count</th>\n",
       "    </tr>\n",
       "  </thead>\n",
       "  <tbody>\n",
       "    <tr>\n",
       "      <th>0</th>\n",
       "      <td>Person Records</td>\n",
       "      <td>Banks</td>\n",
       "      <td>18</td>\n",
       "      <td>Postgraduate Degree Level</td>\n",
       "      <td>Negative income</td>\n",
       "      <td>0</td>\n",
       "    </tr>\n",
       "    <tr>\n",
       "      <th>1</th>\n",
       "      <td>Person Records</td>\n",
       "      <td>Banks</td>\n",
       "      <td>18</td>\n",
       "      <td>Postgraduate Degree Level</td>\n",
       "      <td>Nil income</td>\n",
       "      <td>0</td>\n",
       "    </tr>\n",
       "    <tr>\n",
       "      <th>2</th>\n",
       "      <td>Person Records</td>\n",
       "      <td>Banks</td>\n",
       "      <td>18</td>\n",
       "      <td>Postgraduate Degree Level</td>\n",
       "      <td>$1-$149 ($1-$7,799)</td>\n",
       "      <td>0</td>\n",
       "    </tr>\n",
       "    <tr>\n",
       "      <th>3</th>\n",
       "      <td>Person Records</td>\n",
       "      <td>Banks</td>\n",
       "      <td>18</td>\n",
       "      <td>Postgraduate Degree Level</td>\n",
       "      <td>$150-$299 ($7,800-$15,599)</td>\n",
       "      <td>0</td>\n",
       "    </tr>\n",
       "    <tr>\n",
       "      <th>4</th>\n",
       "      <td>Person Records</td>\n",
       "      <td>Banks</td>\n",
       "      <td>18</td>\n",
       "      <td>Postgraduate Degree Level</td>\n",
       "      <td>$300-$399 ($15,600-$20,799)</td>\n",
       "      <td>0</td>\n",
       "    </tr>\n",
       "  </tbody>\n",
       "</table>\n",
       "</div>"
      ],
      "text/plain": [
       "         Counting CED (UR)  AGEP Age  \\\n",
       "0  Person Records    Banks        18   \n",
       "1  Person Records    Banks        18   \n",
       "2  Person Records    Banks        18   \n",
       "3  Person Records    Banks        18   \n",
       "4  Person Records    Banks        18   \n",
       "\n",
       "  1-digit level HEAP Level of Highest Educational Attainment  \\\n",
       "0                          Postgraduate Degree Level           \n",
       "1                          Postgraduate Degree Level           \n",
       "2                          Postgraduate Degree Level           \n",
       "3                          Postgraduate Degree Level           \n",
       "4                          Postgraduate Degree Level           \n",
       "\n",
       "  INCP Total Personal Income (weekly)  Count  \n",
       "0                     Negative income      0  \n",
       "1                          Nil income      0  \n",
       "2                 $1-$149 ($1-$7,799)      0  \n",
       "3          $150-$299 ($7,800-$15,599)      0  \n",
       "4         $300-$399 ($15,600-$20,799)      0  "
      ]
     },
     "execution_count": 3,
     "metadata": {},
     "output_type": "execute_result"
    }
   ],
   "source": [
    "#Open and read Census Data (cd)\n",
    "cd = pd.read_csv('Data/census.csv')\n",
    "cd.head()"
   ]
  },
  {
   "cell_type": "code",
   "execution_count": 4,
   "metadata": {},
   "outputs": [
    {
     "data": {
      "text/html": [
       "<div>\n",
       "<style scoped>\n",
       "    .dataframe tbody tr th:only-of-type {\n",
       "        vertical-align: middle;\n",
       "    }\n",
       "\n",
       "    .dataframe tbody tr th {\n",
       "        vertical-align: top;\n",
       "    }\n",
       "\n",
       "    .dataframe thead th {\n",
       "        text-align: right;\n",
       "    }\n",
       "</style>\n",
       "<table border=\"1\" class=\"dataframe\">\n",
       "  <thead>\n",
       "    <tr style=\"text-align: right;\">\n",
       "      <th></th>\n",
       "      <th>DivisionID</th>\n",
       "      <th>DivisionNm</th>\n",
       "      <th>StateAb</th>\n",
       "      <th>CandidateID</th>\n",
       "      <th>GivenNm</th>\n",
       "      <th>Surname</th>\n",
       "      <th>PartyNm</th>\n",
       "      <th>PartyAb</th>\n",
       "    </tr>\n",
       "  </thead>\n",
       "  <tbody>\n",
       "    <tr>\n",
       "      <th>0</th>\n",
       "      <td>179</td>\n",
       "      <td>Adelaide</td>\n",
       "      <td>SA</td>\n",
       "      <td>36973</td>\n",
       "      <td>Steve</td>\n",
       "      <td>GEORGANAS</td>\n",
       "      <td>Australian Labor Party</td>\n",
       "      <td>ALP</td>\n",
       "    </tr>\n",
       "    <tr>\n",
       "      <th>1</th>\n",
       "      <td>197</td>\n",
       "      <td>Aston</td>\n",
       "      <td>VIC</td>\n",
       "      <td>36704</td>\n",
       "      <td>Alan</td>\n",
       "      <td>TUDGE</td>\n",
       "      <td>Liberal</td>\n",
       "      <td>LP</td>\n",
       "    </tr>\n",
       "    <tr>\n",
       "      <th>2</th>\n",
       "      <td>198</td>\n",
       "      <td>Ballarat</td>\n",
       "      <td>VIC</td>\n",
       "      <td>36409</td>\n",
       "      <td>Catherine</td>\n",
       "      <td>KING</td>\n",
       "      <td>Australian Labor Party</td>\n",
       "      <td>ALP</td>\n",
       "    </tr>\n",
       "    <tr>\n",
       "      <th>3</th>\n",
       "      <td>103</td>\n",
       "      <td>Banks</td>\n",
       "      <td>NSW</td>\n",
       "      <td>37018</td>\n",
       "      <td>David</td>\n",
       "      <td>COLEMAN</td>\n",
       "      <td>Liberal</td>\n",
       "      <td>LP</td>\n",
       "    </tr>\n",
       "    <tr>\n",
       "      <th>4</th>\n",
       "      <td>180</td>\n",
       "      <td>Barker</td>\n",
       "      <td>SA</td>\n",
       "      <td>37083</td>\n",
       "      <td>Tony</td>\n",
       "      <td>PASIN</td>\n",
       "      <td>Liberal</td>\n",
       "      <td>LP</td>\n",
       "    </tr>\n",
       "  </tbody>\n",
       "</table>\n",
       "</div>"
      ],
      "text/plain": [
       "   DivisionID DivisionNm StateAb  CandidateID    GivenNm    Surname  \\\n",
       "0         179   Adelaide      SA        36973      Steve  GEORGANAS   \n",
       "1         197      Aston     VIC        36704       Alan      TUDGE   \n",
       "2         198   Ballarat     VIC        36409  Catherine       KING   \n",
       "3         103      Banks     NSW        37018      David    COLEMAN   \n",
       "4         180     Barker      SA        37083       Tony      PASIN   \n",
       "\n",
       "                  PartyNm PartyAb  \n",
       "0  Australian Labor Party     ALP  \n",
       "1                 Liberal      LP  \n",
       "2  Australian Labor Party     ALP  \n",
       "3                 Liberal      LP  \n",
       "4                 Liberal      LP  "
      ]
     },
     "execution_count": 4,
     "metadata": {},
     "output_type": "execute_result"
    }
   ],
   "source": [
    "#Open and read Election Data (ed)\n",
    "ed = pd.read_csv('Data/election.csv')\n",
    "ed.head()"
   ]
  },
  {
   "cell_type": "markdown",
   "metadata": {},
   "source": [
    "## Problem\n",
    "\n",
    "Based on the acquired data the proposed problem is to estimate if demographic data, i.e. age, education and income influence the election results in any given Australian Electoral Division and try to predict the outcome of an election in a Division based on demographic data."
   ]
  },
  {
   "cell_type": "markdown",
   "metadata": {},
   "source": [
    "## Data Preparation\n",
    "\n",
    "First, we have to clean and evaluate the datasets, starting with and Election Dataset.\n",
    "\n",
    "### Election Dataset Evaluation & Preparation"
   ]
  },
  {
   "cell_type": "code",
   "execution_count": 5,
   "metadata": {},
   "outputs": [
    {
     "data": {
      "text/html": [
       "<div>\n",
       "<style scoped>\n",
       "    .dataframe tbody tr th:only-of-type {\n",
       "        vertical-align: middle;\n",
       "    }\n",
       "\n",
       "    .dataframe tbody tr th {\n",
       "        vertical-align: top;\n",
       "    }\n",
       "\n",
       "    .dataframe thead th {\n",
       "        text-align: right;\n",
       "    }\n",
       "</style>\n",
       "<table border=\"1\" class=\"dataframe\">\n",
       "  <thead>\n",
       "    <tr style=\"text-align: right;\">\n",
       "      <th></th>\n",
       "      <th>DivisionID</th>\n",
       "      <th>DivisionNm</th>\n",
       "      <th>StateAb</th>\n",
       "      <th>CandidateID</th>\n",
       "      <th>GivenNm</th>\n",
       "      <th>Surname</th>\n",
       "      <th>PartyNm</th>\n",
       "      <th>PartyAb</th>\n",
       "    </tr>\n",
       "  </thead>\n",
       "  <tbody>\n",
       "    <tr>\n",
       "      <th>0</th>\n",
       "      <td>179</td>\n",
       "      <td>Adelaide</td>\n",
       "      <td>SA</td>\n",
       "      <td>36973</td>\n",
       "      <td>Steve</td>\n",
       "      <td>GEORGANAS</td>\n",
       "      <td>Australian Labor Party</td>\n",
       "      <td>ALP</td>\n",
       "    </tr>\n",
       "    <tr>\n",
       "      <th>1</th>\n",
       "      <td>197</td>\n",
       "      <td>Aston</td>\n",
       "      <td>VIC</td>\n",
       "      <td>36704</td>\n",
       "      <td>Alan</td>\n",
       "      <td>TUDGE</td>\n",
       "      <td>Liberal</td>\n",
       "      <td>LP</td>\n",
       "    </tr>\n",
       "    <tr>\n",
       "      <th>2</th>\n",
       "      <td>198</td>\n",
       "      <td>Ballarat</td>\n",
       "      <td>VIC</td>\n",
       "      <td>36409</td>\n",
       "      <td>Catherine</td>\n",
       "      <td>KING</td>\n",
       "      <td>Australian Labor Party</td>\n",
       "      <td>ALP</td>\n",
       "    </tr>\n",
       "    <tr>\n",
       "      <th>3</th>\n",
       "      <td>103</td>\n",
       "      <td>Banks</td>\n",
       "      <td>NSW</td>\n",
       "      <td>37018</td>\n",
       "      <td>David</td>\n",
       "      <td>COLEMAN</td>\n",
       "      <td>Liberal</td>\n",
       "      <td>LP</td>\n",
       "    </tr>\n",
       "    <tr>\n",
       "      <th>4</th>\n",
       "      <td>180</td>\n",
       "      <td>Barker</td>\n",
       "      <td>SA</td>\n",
       "      <td>37083</td>\n",
       "      <td>Tony</td>\n",
       "      <td>PASIN</td>\n",
       "      <td>Liberal</td>\n",
       "      <td>LP</td>\n",
       "    </tr>\n",
       "    <tr>\n",
       "      <th>...</th>\n",
       "      <td>...</td>\n",
       "      <td>...</td>\n",
       "      <td>...</td>\n",
       "      <td>...</td>\n",
       "      <td>...</td>\n",
       "      <td>...</td>\n",
       "      <td>...</td>\n",
       "      <td>...</td>\n",
       "    </tr>\n",
       "    <tr>\n",
       "      <th>146</th>\n",
       "      <td>153</td>\n",
       "      <td>Werriwa</td>\n",
       "      <td>NSW</td>\n",
       "      <td>36810</td>\n",
       "      <td>Anne Maree</td>\n",
       "      <td>STANLEY</td>\n",
       "      <td>Australian Labor Party</td>\n",
       "      <td>ALP</td>\n",
       "    </tr>\n",
       "    <tr>\n",
       "      <th>147</th>\n",
       "      <td>150</td>\n",
       "      <td>Whitlam</td>\n",
       "      <td>NSW</td>\n",
       "      <td>36811</td>\n",
       "      <td>Stephen</td>\n",
       "      <td>JONES</td>\n",
       "      <td>Australian Labor Party</td>\n",
       "      <td>ALP</td>\n",
       "    </tr>\n",
       "    <tr>\n",
       "      <th>148</th>\n",
       "      <td>178</td>\n",
       "      <td>Wide Bay</td>\n",
       "      <td>QLD</td>\n",
       "      <td>37506</td>\n",
       "      <td>Llew</td>\n",
       "      <td>O'BRIEN</td>\n",
       "      <td>Liberal National Party of Queensland</td>\n",
       "      <td>LNP</td>\n",
       "    </tr>\n",
       "    <tr>\n",
       "      <th>149</th>\n",
       "      <td>234</td>\n",
       "      <td>Wills</td>\n",
       "      <td>VIC</td>\n",
       "      <td>36452</td>\n",
       "      <td>Peter</td>\n",
       "      <td>KHALIL</td>\n",
       "      <td>Australian Labor Party</td>\n",
       "      <td>ALP</td>\n",
       "    </tr>\n",
       "    <tr>\n",
       "      <th>150</th>\n",
       "      <td>316</td>\n",
       "      <td>Wright</td>\n",
       "      <td>QLD</td>\n",
       "      <td>37500</td>\n",
       "      <td>Scott</td>\n",
       "      <td>BUCHHOLZ</td>\n",
       "      <td>Liberal National Party of Queensland</td>\n",
       "      <td>LNP</td>\n",
       "    </tr>\n",
       "  </tbody>\n",
       "</table>\n",
       "<p>151 rows × 8 columns</p>\n",
       "</div>"
      ],
      "text/plain": [
       "     DivisionID DivisionNm StateAb  CandidateID     GivenNm    Surname  \\\n",
       "0           179   Adelaide      SA        36973       Steve  GEORGANAS   \n",
       "1           197      Aston     VIC        36704        Alan      TUDGE   \n",
       "2           198   Ballarat     VIC        36409   Catherine       KING   \n",
       "3           103      Banks     NSW        37018       David    COLEMAN   \n",
       "4           180     Barker      SA        37083        Tony      PASIN   \n",
       "..          ...        ...     ...          ...         ...        ...   \n",
       "146         153    Werriwa     NSW        36810  Anne Maree    STANLEY   \n",
       "147         150    Whitlam     NSW        36811     Stephen      JONES   \n",
       "148         178   Wide Bay     QLD        37506        Llew    O'BRIEN   \n",
       "149         234      Wills     VIC        36452       Peter     KHALIL   \n",
       "150         316     Wright     QLD        37500       Scott   BUCHHOLZ   \n",
       "\n",
       "                                  PartyNm PartyAb  \n",
       "0                  Australian Labor Party     ALP  \n",
       "1                                 Liberal      LP  \n",
       "2                  Australian Labor Party     ALP  \n",
       "3                                 Liberal      LP  \n",
       "4                                 Liberal      LP  \n",
       "..                                    ...     ...  \n",
       "146                Australian Labor Party     ALP  \n",
       "147                Australian Labor Party     ALP  \n",
       "148  Liberal National Party of Queensland     LNP  \n",
       "149                Australian Labor Party     ALP  \n",
       "150  Liberal National Party of Queensland     LNP  \n",
       "\n",
       "[151 rows x 8 columns]"
      ]
     },
     "execution_count": 5,
     "metadata": {},
     "output_type": "execute_result"
    }
   ],
   "source": [
    "#Output Election Data\n",
    "ed"
   ]
  },
  {
   "cell_type": "markdown",
   "metadata": {},
   "source": [
    "The dataset has reasonable formatting. From this dataset we only need two fields - Division Name and Winning Party Name. First we should check if these fields have reasonable values."
   ]
  },
  {
   "cell_type": "code",
   "execution_count": 6,
   "metadata": {},
   "outputs": [
    {
     "name": "stdout",
     "output_type": "stream",
     "text": [
      "DivisionNm\n",
      "Adelaide     1\n",
      "Lyons        1\n",
      "Mackellar    1\n",
      "Macnamara    1\n",
      "Macquarie    1\n",
      "            ..\n",
      "Flinders     1\n",
      "Flynn        1\n",
      "Forde        1\n",
      "Forrest      1\n",
      "Wright       1\n",
      "Name: count, Length: 151, dtype: int64 /n\n",
      "PartyNm\n",
      "Australian Labor Party                  77\n",
      "Liberal                                 27\n",
      "Liberal National Party of Queensland    21\n",
      "The Nationals                           10\n",
      "Independent                             10\n",
      "The Greens                               4\n",
      "Katter's Australian Party (KAP)          1\n",
      "Centre Alliance                          1\n",
      "Name: count, dtype: int64\n"
     ]
    }
   ],
   "source": [
    "#Output unique Division and Party names\n",
    "print(ed.DivisionNm.value_counts(), '/n')\n",
    "print(ed.PartyNm.value_counts())"
   ]
  },
  {
   "cell_type": "markdown",
   "metadata": {},
   "source": [
    "Division names have reasonable values - each has only one count, and there 151 Division names, which corresponds with a total number of CEDs.\n",
    "\n",
    "Party names also have reasonable values. However, during the 2022 Federal Election Liberal Party, Liberal National Party of QLD and The Nationals formed the Liberal-National Coalition. For the sake of this analysis it is also reasonable to unite them as a Coalition."
   ]
  },
  {
   "cell_type": "code",
   "execution_count": 7,
   "metadata": {},
   "outputs": [],
   "source": [
    "#List of Parties that form a Liberal-National Coalition\n",
    "coal_list = [\"Liberal\", \"Liberal National Party of Queensland\", \"The Nationals\"]\n",
    "\n",
    "#Leave only relevant fields\n",
    "ed = ed[[\"DivisionNm\", \"PartyNm\"]]"
   ]
  },
  {
   "cell_type": "code",
   "execution_count": 8,
   "metadata": {},
   "outputs": [
    {
     "name": "stderr",
     "output_type": "stream",
     "text": [
      "C:\\Users\\ECH\\AppData\\Local\\Temp\\ipykernel_22576\\3539364458.py:2: SettingWithCopyWarning: \n",
      "A value is trying to be set on a copy of a slice from a DataFrame\n",
      "\n",
      "See the caveats in the documentation: https://pandas.pydata.org/pandas-docs/stable/user_guide/indexing.html#returning-a-view-versus-a-copy\n",
      "  ed.loc[ed[\"PartyNm\"].isin(coal_list), \"PartyNm\"] = \"Liberal-National Coalition\"\n"
     ]
    },
    {
     "data": {
      "text/html": [
       "<div>\n",
       "<style scoped>\n",
       "    .dataframe tbody tr th:only-of-type {\n",
       "        vertical-align: middle;\n",
       "    }\n",
       "\n",
       "    .dataframe tbody tr th {\n",
       "        vertical-align: top;\n",
       "    }\n",
       "\n",
       "    .dataframe thead th {\n",
       "        text-align: right;\n",
       "    }\n",
       "</style>\n",
       "<table border=\"1\" class=\"dataframe\">\n",
       "  <thead>\n",
       "    <tr style=\"text-align: right;\">\n",
       "      <th></th>\n",
       "      <th>PartyNm</th>\n",
       "    </tr>\n",
       "    <tr>\n",
       "      <th>CED</th>\n",
       "      <th></th>\n",
       "    </tr>\n",
       "  </thead>\n",
       "  <tbody>\n",
       "    <tr>\n",
       "      <th>Adelaide</th>\n",
       "      <td>Australian Labor Party</td>\n",
       "    </tr>\n",
       "    <tr>\n",
       "      <th>Aston</th>\n",
       "      <td>Liberal-National Coalition</td>\n",
       "    </tr>\n",
       "    <tr>\n",
       "      <th>Ballarat</th>\n",
       "      <td>Australian Labor Party</td>\n",
       "    </tr>\n",
       "    <tr>\n",
       "      <th>Banks</th>\n",
       "      <td>Liberal-National Coalition</td>\n",
       "    </tr>\n",
       "    <tr>\n",
       "      <th>Barker</th>\n",
       "      <td>Liberal-National Coalition</td>\n",
       "    </tr>\n",
       "    <tr>\n",
       "      <th>...</th>\n",
       "      <td>...</td>\n",
       "    </tr>\n",
       "    <tr>\n",
       "      <th>Werriwa</th>\n",
       "      <td>Australian Labor Party</td>\n",
       "    </tr>\n",
       "    <tr>\n",
       "      <th>Whitlam</th>\n",
       "      <td>Australian Labor Party</td>\n",
       "    </tr>\n",
       "    <tr>\n",
       "      <th>Wide Bay</th>\n",
       "      <td>Liberal-National Coalition</td>\n",
       "    </tr>\n",
       "    <tr>\n",
       "      <th>Wills</th>\n",
       "      <td>Australian Labor Party</td>\n",
       "    </tr>\n",
       "    <tr>\n",
       "      <th>Wright</th>\n",
       "      <td>Liberal-National Coalition</td>\n",
       "    </tr>\n",
       "  </tbody>\n",
       "</table>\n",
       "<p>151 rows × 1 columns</p>\n",
       "</div>"
      ],
      "text/plain": [
       "                             PartyNm\n",
       "CED                                 \n",
       "Adelaide      Australian Labor Party\n",
       "Aston     Liberal-National Coalition\n",
       "Ballarat      Australian Labor Party\n",
       "Banks     Liberal-National Coalition\n",
       "Barker    Liberal-National Coalition\n",
       "...                              ...\n",
       "Werriwa       Australian Labor Party\n",
       "Whitlam       Australian Labor Party\n",
       "Wide Bay  Liberal-National Coalition\n",
       "Wills         Australian Labor Party\n",
       "Wright    Liberal-National Coalition\n",
       "\n",
       "[151 rows x 1 columns]"
      ]
     },
     "execution_count": 8,
     "metadata": {},
     "output_type": "execute_result"
    }
   ],
   "source": [
    "#Acknowledge if winning party is in a L-N Coalition and replace\n",
    "ed.loc[ed[\"PartyNm\"].isin(coal_list), \"PartyNm\"] = \"Liberal-National Coalition\"\n",
    "\n",
    "#Rename DivisionNm column to CED and set as index\n",
    "ed = ed.rename(columns={'DivisionNm':'CED'})\n",
    "ed = ed.set_index(ed.columns[0])\n",
    "ed"
   ]
  },
  {
   "cell_type": "markdown",
   "metadata": {},
   "source": [
    "### Census Dataset Evaluation\n",
    "\n",
    "Next we should prepare the 2021 Census Dataset. "
   ]
  },
  {
   "cell_type": "code",
   "execution_count": 9,
   "metadata": {},
   "outputs": [
    {
     "data": {
      "text/html": [
       "<div>\n",
       "<style scoped>\n",
       "    .dataframe tbody tr th:only-of-type {\n",
       "        vertical-align: middle;\n",
       "    }\n",
       "\n",
       "    .dataframe tbody tr th {\n",
       "        vertical-align: top;\n",
       "    }\n",
       "\n",
       "    .dataframe thead th {\n",
       "        text-align: right;\n",
       "    }\n",
       "</style>\n",
       "<table border=\"1\" class=\"dataframe\">\n",
       "  <thead>\n",
       "    <tr style=\"text-align: right;\">\n",
       "      <th></th>\n",
       "      <th>Counting</th>\n",
       "      <th>CED (UR)</th>\n",
       "      <th>AGEP Age</th>\n",
       "      <th>1-digit level HEAP Level of Highest Educational Attainment</th>\n",
       "      <th>INCP Total Personal Income (weekly)</th>\n",
       "      <th>Count</th>\n",
       "    </tr>\n",
       "  </thead>\n",
       "  <tbody>\n",
       "    <tr>\n",
       "      <th>0</th>\n",
       "      <td>Person Records</td>\n",
       "      <td>Banks</td>\n",
       "      <td>18</td>\n",
       "      <td>Postgraduate Degree Level</td>\n",
       "      <td>Negative income</td>\n",
       "      <td>0</td>\n",
       "    </tr>\n",
       "    <tr>\n",
       "      <th>1</th>\n",
       "      <td>Person Records</td>\n",
       "      <td>Banks</td>\n",
       "      <td>18</td>\n",
       "      <td>Postgraduate Degree Level</td>\n",
       "      <td>Nil income</td>\n",
       "      <td>0</td>\n",
       "    </tr>\n",
       "    <tr>\n",
       "      <th>2</th>\n",
       "      <td>Person Records</td>\n",
       "      <td>Banks</td>\n",
       "      <td>18</td>\n",
       "      <td>Postgraduate Degree Level</td>\n",
       "      <td>$1-$149 ($1-$7,799)</td>\n",
       "      <td>0</td>\n",
       "    </tr>\n",
       "    <tr>\n",
       "      <th>3</th>\n",
       "      <td>Person Records</td>\n",
       "      <td>Banks</td>\n",
       "      <td>18</td>\n",
       "      <td>Postgraduate Degree Level</td>\n",
       "      <td>$150-$299 ($7,800-$15,599)</td>\n",
       "      <td>0</td>\n",
       "    </tr>\n",
       "    <tr>\n",
       "      <th>4</th>\n",
       "      <td>Person Records</td>\n",
       "      <td>Banks</td>\n",
       "      <td>18</td>\n",
       "      <td>Postgraduate Degree Level</td>\n",
       "      <td>$300-$399 ($15,600-$20,799)</td>\n",
       "      <td>0</td>\n",
       "    </tr>\n",
       "    <tr>\n",
       "      <th>...</th>\n",
       "      <td>...</td>\n",
       "      <td>...</td>\n",
       "      <td>...</td>\n",
       "      <td>...</td>\n",
       "      <td>...</td>\n",
       "      <td>...</td>\n",
       "    </tr>\n",
       "    <tr>\n",
       "      <th>2949403</th>\n",
       "      <td>Person Records</td>\n",
       "      <td>Total</td>\n",
       "      <td>115</td>\n",
       "      <td>Not applicable</td>\n",
       "      <td>$2,000-$2,999 ($104,000-$155,999)</td>\n",
       "      <td>0</td>\n",
       "    </tr>\n",
       "    <tr>\n",
       "      <th>2949404</th>\n",
       "      <td>Person Records</td>\n",
       "      <td>Total</td>\n",
       "      <td>115</td>\n",
       "      <td>Not applicable</td>\n",
       "      <td>$3,000-$3,499 ($156,000-$181,999)</td>\n",
       "      <td>0</td>\n",
       "    </tr>\n",
       "    <tr>\n",
       "      <th>2949405</th>\n",
       "      <td>Person Records</td>\n",
       "      <td>Total</td>\n",
       "      <td>115</td>\n",
       "      <td>Not applicable</td>\n",
       "      <td>$3,500 or more ($182,000 or more)</td>\n",
       "      <td>0</td>\n",
       "    </tr>\n",
       "    <tr>\n",
       "      <th>2949406</th>\n",
       "      <td>Person Records</td>\n",
       "      <td>Total</td>\n",
       "      <td>115</td>\n",
       "      <td>Not applicable</td>\n",
       "      <td>Not stated</td>\n",
       "      <td>0</td>\n",
       "    </tr>\n",
       "    <tr>\n",
       "      <th>2949407</th>\n",
       "      <td>Person Records</td>\n",
       "      <td>Total</td>\n",
       "      <td>115</td>\n",
       "      <td>Not applicable</td>\n",
       "      <td>Not applicable</td>\n",
       "      <td>0</td>\n",
       "    </tr>\n",
       "  </tbody>\n",
       "</table>\n",
       "<p>2949408 rows × 6 columns</p>\n",
       "</div>"
      ],
      "text/plain": [
       "               Counting CED (UR)  AGEP Age  \\\n",
       "0        Person Records    Banks        18   \n",
       "1        Person Records    Banks        18   \n",
       "2        Person Records    Banks        18   \n",
       "3        Person Records    Banks        18   \n",
       "4        Person Records    Banks        18   \n",
       "...                 ...      ...       ...   \n",
       "2949403  Person Records    Total       115   \n",
       "2949404  Person Records    Total       115   \n",
       "2949405  Person Records    Total       115   \n",
       "2949406  Person Records    Total       115   \n",
       "2949407  Person Records    Total       115   \n",
       "\n",
       "        1-digit level HEAP Level of Highest Educational Attainment  \\\n",
       "0                                Postgraduate Degree Level           \n",
       "1                                Postgraduate Degree Level           \n",
       "2                                Postgraduate Degree Level           \n",
       "3                                Postgraduate Degree Level           \n",
       "4                                Postgraduate Degree Level           \n",
       "...                                                    ...           \n",
       "2949403                                     Not applicable           \n",
       "2949404                                     Not applicable           \n",
       "2949405                                     Not applicable           \n",
       "2949406                                     Not applicable           \n",
       "2949407                                     Not applicable           \n",
       "\n",
       "        INCP Total Personal Income (weekly)  Count  \n",
       "0                           Negative income      0  \n",
       "1                                Nil income      0  \n",
       "2                       $1-$149 ($1-$7,799)      0  \n",
       "3                $150-$299 ($7,800-$15,599)      0  \n",
       "4               $300-$399 ($15,600-$20,799)      0  \n",
       "...                                     ...    ...  \n",
       "2949403   $2,000-$2,999 ($104,000-$155,999)      0  \n",
       "2949404   $3,000-$3,499 ($156,000-$181,999)      0  \n",
       "2949405   $3,500 or more ($182,000 or more)      0  \n",
       "2949406                          Not stated      0  \n",
       "2949407                      Not applicable      0  \n",
       "\n",
       "[2949408 rows x 6 columns]"
      ]
     },
     "execution_count": 9,
     "metadata": {},
     "output_type": "execute_result"
    }
   ],
   "source": [
    "#Output Census Dataset\n",
    "cd"
   ]
  },
  {
   "cell_type": "markdown",
   "metadata": {},
   "source": [
    "This Dataset is very large, and unconventioanlly structured. Instead of each row being one observation, for example a person with a set of characteristics, each row represents some combination of characteristics - Electoral District, Age, Highest Education Level and Personal Income, and then the amount of people recorded to have this combination of characteristics in the Count field.\n",
    "\n",
    "We should:\n",
    "1) Rename the columns so there are no spaces in the names\n",
    "2) Rename the Count column, since it can be mixed up with the Count function\n",
    "3) Remove Counting field and Total CED name, as they are irrelevant for this analysis\n",
    "4) Transform Age and Group_Count columns to int instead of float"
   ]
  },
  {
   "cell_type": "code",
   "execution_count": 10,
   "metadata": {},
   "outputs": [],
   "source": [
    "#Rename columns\n",
    "cd = cd.rename(columns={'CED (UR)':'CED', 'AGEP Age':'Age', '1-digit level HEAP Level of Highest Educational Attainment':'Education', 'INCP Total Personal Income (weekly)':'Income', \"Count\":\"Group_Count\"})\n",
    "\n",
    "#Remove Counting column and Total row\n",
    "cd = cd.drop(\"Counting\", axis = 1)\n",
    "cd = cd[cd.CED != \"Total\"]\n",
    "\n",
    "#Set numeric columns to int\n",
    "cd.loc[:, \"Age\"] = cd[\"Age\"].astype(int)\n",
    "cd.loc[:, \"Group_Count\"] = cd[\"Group_Count\"].astype(int)"
   ]
  },
  {
   "cell_type": "markdown",
   "metadata": {},
   "source": [
    "Next we should take a look at possible values of categorical variables"
   ]
  },
  {
   "cell_type": "code",
   "execution_count": 11,
   "metadata": {},
   "outputs": [
    {
     "name": "stdout",
     "output_type": "stream",
     "text": [
      "CED\n",
      "Banks       19404\n",
      "Fisher      19404\n",
      "Forde       19404\n",
      "Griffith    19404\n",
      "Groom       19404\n",
      "            ...  \n",
      "Calwell     19404\n",
      "Casey       19404\n",
      "Chisholm    19404\n",
      "Cooper      19404\n",
      "Fenner      19404\n",
      "Name: count, Length: 151, dtype: int64 /n\n",
      "Education\n",
      "Postgraduate Degree Level                          266364\n",
      "Graduate Diploma and Graduate Certificate Level    266364\n",
      "Bachelor Degree Level                              266364\n",
      "Advanced Diploma and Diploma Level                 266364\n",
      "Certificate III & IV Level                         266364\n",
      "Secondary Education - Years 10 and above           266364\n",
      "Certificate I & II Level                           266364\n",
      "Secondary Education - Years 9 and below            266364\n",
      "Supplementary Codes                                266364\n",
      "Not stated                                         266364\n",
      "Not applicable                                     266364\n",
      "Name: count, dtype: int64\n"
     ]
    }
   ],
   "source": [
    "#Unique values of categorical variables\n",
    "print(cd[\"CED\"].value_counts(), '/n')\n",
    "print(cd[\"Education\"].value_counts())"
   ]
  },
  {
   "cell_type": "code",
   "execution_count": 12,
   "metadata": {},
   "outputs": [
    {
     "name": "stdout",
     "output_type": "stream",
     "text": [
      "Income\n",
      "Negative income                      162778\n",
      "Nil income                           162778\n",
      "Not stated                           162778\n",
      "$3,500 or more ($182,000 or more)    162778\n",
      "$3,000-$3,499 ($156,000-$181,999)    162778\n",
      "$2,000-$2,999 ($104,000-$155,999)    162778\n",
      "$1,750-$1,999 ($91,000-$103,999)     162778\n",
      "$1,500-$1,749 ($78,000-$90,999)      162778\n",
      "$1,250-$1,499 ($65,000-$77,999)      162778\n",
      "$1,000-$1,249 ($52,000-$64,999)      162778\n",
      "$800-$999 ($41,600-$51,999)          162778\n",
      "$650-$799 ($33,800-$41,599)          162778\n",
      "$500-$649 ($26,000-$33,799)          162778\n",
      "$400-$499 ($20,800-$25,999)          162778\n",
      "$300-$399 ($15,600-$20,799)          162778\n",
      "$150-$299 ($7,800-$15,599)           162778\n",
      "$1-$149 ($1-$7,799)                  162778\n",
      "Not applicable                       162778\n",
      "Name: count, dtype: int64\n"
     ]
    }
   ],
   "source": [
    "#Moved to next cell not to cause overly long output\n",
    "print(cd[\"Income\"].value_counts())"
   ]
  },
  {
   "cell_type": "markdown",
   "metadata": {},
   "source": [
    "Categorical variables look reasonable, next we should check if the numerical variables have adequate values."
   ]
  },
  {
   "cell_type": "code",
   "execution_count": 13,
   "metadata": {},
   "outputs": [
    {
     "data": {
      "text/html": [
       "<div>\n",
       "<style scoped>\n",
       "    .dataframe tbody tr th:only-of-type {\n",
       "        vertical-align: middle;\n",
       "    }\n",
       "\n",
       "    .dataframe tbody tr th {\n",
       "        vertical-align: top;\n",
       "    }\n",
       "\n",
       "    .dataframe thead th {\n",
       "        text-align: right;\n",
       "    }\n",
       "</style>\n",
       "<table border=\"1\" class=\"dataframe\">\n",
       "  <thead>\n",
       "    <tr style=\"text-align: right;\">\n",
       "      <th></th>\n",
       "      <th>Age</th>\n",
       "      <th>Group_Count</th>\n",
       "    </tr>\n",
       "  </thead>\n",
       "  <tbody>\n",
       "    <tr>\n",
       "      <th>count</th>\n",
       "      <td>2.93e+06</td>\n",
       "      <td>2.93e+06</td>\n",
       "    </tr>\n",
       "    <tr>\n",
       "      <th>mean</th>\n",
       "      <td>66.5</td>\n",
       "      <td>6.6903</td>\n",
       "    </tr>\n",
       "    <tr>\n",
       "      <th>std</th>\n",
       "      <td>28.2887</td>\n",
       "      <td>18.4355</td>\n",
       "    </tr>\n",
       "    <tr>\n",
       "      <th>min</th>\n",
       "      <td>18</td>\n",
       "      <td>0</td>\n",
       "    </tr>\n",
       "    <tr>\n",
       "      <th>25%</th>\n",
       "      <td>42</td>\n",
       "      <td>0</td>\n",
       "    </tr>\n",
       "    <tr>\n",
       "      <th>50%</th>\n",
       "      <td>66.5</td>\n",
       "      <td>0</td>\n",
       "    </tr>\n",
       "    <tr>\n",
       "      <th>75%</th>\n",
       "      <td>91</td>\n",
       "      <td>5</td>\n",
       "    </tr>\n",
       "    <tr>\n",
       "      <th>max</th>\n",
       "      <td>115</td>\n",
       "      <td>964</td>\n",
       "    </tr>\n",
       "  </tbody>\n",
       "</table>\n",
       "</div>"
      ],
      "text/plain": [
       "            Age Group_Count\n",
       "count  2.93e+06    2.93e+06\n",
       "mean       66.5      6.6903\n",
       "std     28.2887     18.4355\n",
       "min          18           0\n",
       "25%          42           0\n",
       "50%        66.5           0\n",
       "75%          91           5\n",
       "max         115         964"
      ]
     },
     "execution_count": 13,
     "metadata": {},
     "output_type": "execute_result"
    }
   ],
   "source": [
    "#Output numercal variables summary without forced scientific e notation\n",
    "cd[[\"Age\", \"Group_Count\"]].describe().apply(lambda s: s.apply(lambda x: format(x, 'g')))"
   ]
  },
  {
   "cell_type": "markdown",
   "metadata": {},
   "source": [
    "Numerical variables don't have negative or otherwise unreasonable values."
   ]
  },
  {
   "cell_type": "markdown",
   "metadata": {},
   "source": [
    "### Census Dataset Preparation"
   ]
  },
  {
   "cell_type": "markdown",
   "metadata": {},
   "source": [
    "Now that we have made sure that the dataset is good, it is time to prepare it for ML algorithm application.\n",
    "\n",
    "In it's current state, it contains the count of people in the Census that represent a specific group by CED of residence, Age, Education and Income. For the sake of this analysis of how demographic data may infuence election results, we need to reformat this data.\n",
    "\n",
    "I propose to manipulate this data in a way to create a new dataset containing **average age, percentage of people with higher education and percentage of people with more than average income** grouped by Commonwealth Electoral District."
   ]
  },
  {
   "cell_type": "code",
   "execution_count": 14,
   "metadata": {},
   "outputs": [
    {
     "data": {
      "text/html": [
       "<div>\n",
       "<style scoped>\n",
       "    .dataframe tbody tr th:only-of-type {\n",
       "        vertical-align: middle;\n",
       "    }\n",
       "\n",
       "    .dataframe tbody tr th {\n",
       "        vertical-align: top;\n",
       "    }\n",
       "\n",
       "    .dataframe thead th {\n",
       "        text-align: right;\n",
       "    }\n",
       "</style>\n",
       "<table border=\"1\" class=\"dataframe\">\n",
       "  <thead>\n",
       "    <tr style=\"text-align: right;\">\n",
       "      <th></th>\n",
       "      <th>CED</th>\n",
       "      <th>Age</th>\n",
       "      <th>Education</th>\n",
       "      <th>Income</th>\n",
       "      <th>Group_Count</th>\n",
       "    </tr>\n",
       "  </thead>\n",
       "  <tbody>\n",
       "    <tr>\n",
       "      <th>0</th>\n",
       "      <td>Banks</td>\n",
       "      <td>18</td>\n",
       "      <td>Postgraduate Degree Level</td>\n",
       "      <td>Negative income</td>\n",
       "      <td>0</td>\n",
       "    </tr>\n",
       "    <tr>\n",
       "      <th>1</th>\n",
       "      <td>Banks</td>\n",
       "      <td>18</td>\n",
       "      <td>Postgraduate Degree Level</td>\n",
       "      <td>Nil income</td>\n",
       "      <td>0</td>\n",
       "    </tr>\n",
       "    <tr>\n",
       "      <th>2</th>\n",
       "      <td>Banks</td>\n",
       "      <td>18</td>\n",
       "      <td>Postgraduate Degree Level</td>\n",
       "      <td>$1-$149 ($1-$7,799)</td>\n",
       "      <td>0</td>\n",
       "    </tr>\n",
       "    <tr>\n",
       "      <th>3</th>\n",
       "      <td>Banks</td>\n",
       "      <td>18</td>\n",
       "      <td>Postgraduate Degree Level</td>\n",
       "      <td>$150-$299 ($7,800-$15,599)</td>\n",
       "      <td>0</td>\n",
       "    </tr>\n",
       "    <tr>\n",
       "      <th>4</th>\n",
       "      <td>Banks</td>\n",
       "      <td>18</td>\n",
       "      <td>Postgraduate Degree Level</td>\n",
       "      <td>$300-$399 ($15,600-$20,799)</td>\n",
       "      <td>0</td>\n",
       "    </tr>\n",
       "    <tr>\n",
       "      <th>...</th>\n",
       "      <td>...</td>\n",
       "      <td>...</td>\n",
       "      <td>...</td>\n",
       "      <td>...</td>\n",
       "      <td>...</td>\n",
       "    </tr>\n",
       "    <tr>\n",
       "      <th>2929999</th>\n",
       "      <td>Fenner</td>\n",
       "      <td>115</td>\n",
       "      <td>Not applicable</td>\n",
       "      <td>$2,000-$2,999 ($104,000-$155,999)</td>\n",
       "      <td>0</td>\n",
       "    </tr>\n",
       "    <tr>\n",
       "      <th>2930000</th>\n",
       "      <td>Fenner</td>\n",
       "      <td>115</td>\n",
       "      <td>Not applicable</td>\n",
       "      <td>$3,000-$3,499 ($156,000-$181,999)</td>\n",
       "      <td>0</td>\n",
       "    </tr>\n",
       "    <tr>\n",
       "      <th>2930001</th>\n",
       "      <td>Fenner</td>\n",
       "      <td>115</td>\n",
       "      <td>Not applicable</td>\n",
       "      <td>$3,500 or more ($182,000 or more)</td>\n",
       "      <td>0</td>\n",
       "    </tr>\n",
       "    <tr>\n",
       "      <th>2930002</th>\n",
       "      <td>Fenner</td>\n",
       "      <td>115</td>\n",
       "      <td>Not applicable</td>\n",
       "      <td>Not stated</td>\n",
       "      <td>0</td>\n",
       "    </tr>\n",
       "    <tr>\n",
       "      <th>2930003</th>\n",
       "      <td>Fenner</td>\n",
       "      <td>115</td>\n",
       "      <td>Not applicable</td>\n",
       "      <td>Not applicable</td>\n",
       "      <td>0</td>\n",
       "    </tr>\n",
       "  </tbody>\n",
       "</table>\n",
       "<p>2930004 rows × 5 columns</p>\n",
       "</div>"
      ],
      "text/plain": [
       "            CED  Age                  Education  \\\n",
       "0         Banks   18  Postgraduate Degree Level   \n",
       "1         Banks   18  Postgraduate Degree Level   \n",
       "2         Banks   18  Postgraduate Degree Level   \n",
       "3         Banks   18  Postgraduate Degree Level   \n",
       "4         Banks   18  Postgraduate Degree Level   \n",
       "...         ...  ...                        ...   \n",
       "2929999  Fenner  115             Not applicable   \n",
       "2930000  Fenner  115             Not applicable   \n",
       "2930001  Fenner  115             Not applicable   \n",
       "2930002  Fenner  115             Not applicable   \n",
       "2930003  Fenner  115             Not applicable   \n",
       "\n",
       "                                    Income  Group_Count  \n",
       "0                          Negative income            0  \n",
       "1                               Nil income            0  \n",
       "2                      $1-$149 ($1-$7,799)            0  \n",
       "3               $150-$299 ($7,800-$15,599)            0  \n",
       "4              $300-$399 ($15,600-$20,799)            0  \n",
       "...                                    ...          ...  \n",
       "2929999  $2,000-$2,999 ($104,000-$155,999)            0  \n",
       "2930000  $3,000-$3,499 ($156,000-$181,999)            0  \n",
       "2930001  $3,500 or more ($182,000 or more)            0  \n",
       "2930002                         Not stated            0  \n",
       "2930003                     Not applicable            0  \n",
       "\n",
       "[2930004 rows x 5 columns]"
      ]
     },
     "execution_count": 14,
     "metadata": {},
     "output_type": "execute_result"
    }
   ],
   "source": [
    "#Output census dataset\n",
    "cd"
   ]
  },
  {
   "cell_type": "markdown",
   "metadata": {},
   "source": [
    "First, we should add the total count of people by CED, as well as count of people with higher education (HE) and high income (HI) by CED."
   ]
  },
  {
   "cell_type": "code",
   "execution_count": 15,
   "metadata": {},
   "outputs": [
    {
     "data": {
      "text/html": [
       "<div>\n",
       "<style scoped>\n",
       "    .dataframe tbody tr th:only-of-type {\n",
       "        vertical-align: middle;\n",
       "    }\n",
       "\n",
       "    .dataframe tbody tr th {\n",
       "        vertical-align: top;\n",
       "    }\n",
       "\n",
       "    .dataframe thead th {\n",
       "        text-align: right;\n",
       "    }\n",
       "</style>\n",
       "<table border=\"1\" class=\"dataframe\">\n",
       "  <thead>\n",
       "    <tr style=\"text-align: right;\">\n",
       "      <th></th>\n",
       "      <th>CED</th>\n",
       "      <th>Age</th>\n",
       "      <th>Education</th>\n",
       "      <th>Income</th>\n",
       "      <th>Group_Count</th>\n",
       "      <th>Total_Count</th>\n",
       "      <th>HE_Count</th>\n",
       "      <th>HI_Count</th>\n",
       "    </tr>\n",
       "  </thead>\n",
       "  <tbody>\n",
       "    <tr>\n",
       "      <th>0</th>\n",
       "      <td>Banks</td>\n",
       "      <td>18</td>\n",
       "      <td>Postgraduate Degree Level</td>\n",
       "      <td>Negative income</td>\n",
       "      <td>0</td>\n",
       "      <td>128128</td>\n",
       "      <td>54272.0</td>\n",
       "      <td>NaN</td>\n",
       "    </tr>\n",
       "    <tr>\n",
       "      <th>1</th>\n",
       "      <td>Banks</td>\n",
       "      <td>18</td>\n",
       "      <td>Postgraduate Degree Level</td>\n",
       "      <td>Nil income</td>\n",
       "      <td>0</td>\n",
       "      <td>128128</td>\n",
       "      <td>54272.0</td>\n",
       "      <td>NaN</td>\n",
       "    </tr>\n",
       "    <tr>\n",
       "      <th>2</th>\n",
       "      <td>Banks</td>\n",
       "      <td>18</td>\n",
       "      <td>Postgraduate Degree Level</td>\n",
       "      <td>$1-$149 ($1-$7,799)</td>\n",
       "      <td>0</td>\n",
       "      <td>128128</td>\n",
       "      <td>54272.0</td>\n",
       "      <td>NaN</td>\n",
       "    </tr>\n",
       "    <tr>\n",
       "      <th>3</th>\n",
       "      <td>Banks</td>\n",
       "      <td>18</td>\n",
       "      <td>Postgraduate Degree Level</td>\n",
       "      <td>$150-$299 ($7,800-$15,599)</td>\n",
       "      <td>0</td>\n",
       "      <td>128128</td>\n",
       "      <td>54272.0</td>\n",
       "      <td>NaN</td>\n",
       "    </tr>\n",
       "    <tr>\n",
       "      <th>4</th>\n",
       "      <td>Banks</td>\n",
       "      <td>18</td>\n",
       "      <td>Postgraduate Degree Level</td>\n",
       "      <td>$300-$399 ($15,600-$20,799)</td>\n",
       "      <td>0</td>\n",
       "      <td>128128</td>\n",
       "      <td>54272.0</td>\n",
       "      <td>NaN</td>\n",
       "    </tr>\n",
       "    <tr>\n",
       "      <th>...</th>\n",
       "      <td>...</td>\n",
       "      <td>...</td>\n",
       "      <td>...</td>\n",
       "      <td>...</td>\n",
       "      <td>...</td>\n",
       "      <td>...</td>\n",
       "      <td>...</td>\n",
       "      <td>...</td>\n",
       "    </tr>\n",
       "    <tr>\n",
       "      <th>2929999</th>\n",
       "      <td>Fenner</td>\n",
       "      <td>115</td>\n",
       "      <td>Not applicable</td>\n",
       "      <td>$2,000-$2,999 ($104,000-$155,999)</td>\n",
       "      <td>0</td>\n",
       "      <td>117291</td>\n",
       "      <td>NaN</td>\n",
       "      <td>23849.0</td>\n",
       "    </tr>\n",
       "    <tr>\n",
       "      <th>2930000</th>\n",
       "      <td>Fenner</td>\n",
       "      <td>115</td>\n",
       "      <td>Not applicable</td>\n",
       "      <td>$3,000-$3,499 ($156,000-$181,999)</td>\n",
       "      <td>0</td>\n",
       "      <td>117291</td>\n",
       "      <td>NaN</td>\n",
       "      <td>23849.0</td>\n",
       "    </tr>\n",
       "    <tr>\n",
       "      <th>2930001</th>\n",
       "      <td>Fenner</td>\n",
       "      <td>115</td>\n",
       "      <td>Not applicable</td>\n",
       "      <td>$3,500 or more ($182,000 or more)</td>\n",
       "      <td>0</td>\n",
       "      <td>117291</td>\n",
       "      <td>NaN</td>\n",
       "      <td>23849.0</td>\n",
       "    </tr>\n",
       "    <tr>\n",
       "      <th>2930002</th>\n",
       "      <td>Fenner</td>\n",
       "      <td>115</td>\n",
       "      <td>Not applicable</td>\n",
       "      <td>Not stated</td>\n",
       "      <td>0</td>\n",
       "      <td>117291</td>\n",
       "      <td>NaN</td>\n",
       "      <td>NaN</td>\n",
       "    </tr>\n",
       "    <tr>\n",
       "      <th>2930003</th>\n",
       "      <td>Fenner</td>\n",
       "      <td>115</td>\n",
       "      <td>Not applicable</td>\n",
       "      <td>Not applicable</td>\n",
       "      <td>0</td>\n",
       "      <td>117291</td>\n",
       "      <td>NaN</td>\n",
       "      <td>NaN</td>\n",
       "    </tr>\n",
       "  </tbody>\n",
       "</table>\n",
       "<p>2930004 rows × 8 columns</p>\n",
       "</div>"
      ],
      "text/plain": [
       "            CED  Age                  Education  \\\n",
       "0         Banks   18  Postgraduate Degree Level   \n",
       "1         Banks   18  Postgraduate Degree Level   \n",
       "2         Banks   18  Postgraduate Degree Level   \n",
       "3         Banks   18  Postgraduate Degree Level   \n",
       "4         Banks   18  Postgraduate Degree Level   \n",
       "...         ...  ...                        ...   \n",
       "2929999  Fenner  115             Not applicable   \n",
       "2930000  Fenner  115             Not applicable   \n",
       "2930001  Fenner  115             Not applicable   \n",
       "2930002  Fenner  115             Not applicable   \n",
       "2930003  Fenner  115             Not applicable   \n",
       "\n",
       "                                    Income  Group_Count  Total_Count  \\\n",
       "0                          Negative income            0       128128   \n",
       "1                               Nil income            0       128128   \n",
       "2                      $1-$149 ($1-$7,799)            0       128128   \n",
       "3               $150-$299 ($7,800-$15,599)            0       128128   \n",
       "4              $300-$399 ($15,600-$20,799)            0       128128   \n",
       "...                                    ...          ...          ...   \n",
       "2929999  $2,000-$2,999 ($104,000-$155,999)            0       117291   \n",
       "2930000  $3,000-$3,499 ($156,000-$181,999)            0       117291   \n",
       "2930001  $3,500 or more ($182,000 or more)            0       117291   \n",
       "2930002                         Not stated            0       117291   \n",
       "2930003                     Not applicable            0       117291   \n",
       "\n",
       "         HE_Count  HI_Count  \n",
       "0         54272.0       NaN  \n",
       "1         54272.0       NaN  \n",
       "2         54272.0       NaN  \n",
       "3         54272.0       NaN  \n",
       "4         54272.0       NaN  \n",
       "...           ...       ...  \n",
       "2929999       NaN   23849.0  \n",
       "2930000       NaN   23849.0  \n",
       "2930001       NaN   23849.0  \n",
       "2930002       NaN       NaN  \n",
       "2930003       NaN       NaN  \n",
       "\n",
       "[2930004 rows x 8 columns]"
      ]
     },
     "execution_count": 15,
     "metadata": {},
     "output_type": "execute_result"
    }
   ],
   "source": [
    "#Add a total count column, representing the total amount of people in each CED\n",
    "cd[\"Total_Count\"] = cd[\"Group_Count\"].groupby(cd[\"CED\"]).transform('sum')\n",
    "\n",
    "#List of education levels considered higher education and add a count column for an amount of people with higher education by CED\n",
    "he_list = [\"Advanced Diploma and Diploma Level\", \"Bachelor Degree Level\", \"Graduate Diploma and Graduate Certificate Level\", \"Postgraduate Degree Level\"]\n",
    "cd[\"HE_Count\"] = cd[cd.Education.isin(he_list)][\"Group_Count\"].groupby(cd[\"CED\"]).transform('sum')\n",
    "\n",
    "#List of income brackets considered higher than average, considering average to be $1888/Week and add a count column for an amount of people with high income by CED\n",
    "inc_list = [\"$2,000-$2,999 ($104,000-$155,999)\", \"$3,000-$3,499 ($156,000-$181,999)\", \"$3,500 or more ($182,000 or more)\"]\n",
    "cd[\"HI_Count\"] = cd[cd.Income.isin(inc_list)][\"Group_Count\"].groupby(cd[\"CED\"]).transform('sum')\n",
    "\n",
    "cd"
   ]
  },
  {
   "cell_type": "markdown",
   "metadata": {},
   "source": [
    "Next we should calculate the percentages of HE and HI people by CED"
   ]
  },
  {
   "cell_type": "code",
   "execution_count": 16,
   "metadata": {},
   "outputs": [
    {
     "data": {
      "text/html": [
       "<div>\n",
       "<style scoped>\n",
       "    .dataframe tbody tr th:only-of-type {\n",
       "        vertical-align: middle;\n",
       "    }\n",
       "\n",
       "    .dataframe tbody tr th {\n",
       "        vertical-align: top;\n",
       "    }\n",
       "\n",
       "    .dataframe thead th {\n",
       "        text-align: right;\n",
       "    }\n",
       "</style>\n",
       "<table border=\"1\" class=\"dataframe\">\n",
       "  <thead>\n",
       "    <tr style=\"text-align: right;\">\n",
       "      <th></th>\n",
       "      <th>HE_percentage</th>\n",
       "      <th>HI_percentage</th>\n",
       "    </tr>\n",
       "    <tr>\n",
       "      <th>CED</th>\n",
       "      <th></th>\n",
       "      <th></th>\n",
       "    </tr>\n",
       "  </thead>\n",
       "  <tbody>\n",
       "    <tr>\n",
       "      <th>Banks</th>\n",
       "      <td>0.423576</td>\n",
       "      <td>0.126030</td>\n",
       "    </tr>\n",
       "    <tr>\n",
       "      <th>Barton</th>\n",
       "      <td>0.459313</td>\n",
       "      <td>0.123338</td>\n",
       "    </tr>\n",
       "    <tr>\n",
       "      <th>Bennelong</th>\n",
       "      <td>0.586280</td>\n",
       "      <td>0.188710</td>\n",
       "    </tr>\n",
       "    <tr>\n",
       "      <th>Berowra</th>\n",
       "      <td>0.546013</td>\n",
       "      <td>0.225480</td>\n",
       "    </tr>\n",
       "    <tr>\n",
       "      <th>Blaxland</th>\n",
       "      <td>0.302552</td>\n",
       "      <td>0.046420</td>\n",
       "    </tr>\n",
       "    <tr>\n",
       "      <th>...</th>\n",
       "      <td>...</td>\n",
       "      <td>...</td>\n",
       "    </tr>\n",
       "    <tr>\n",
       "      <th>Lingiari</th>\n",
       "      <td>0.213892</td>\n",
       "      <td>0.113392</td>\n",
       "    </tr>\n",
       "    <tr>\n",
       "      <th>Solomon</th>\n",
       "      <td>0.396256</td>\n",
       "      <td>0.168494</td>\n",
       "    </tr>\n",
       "    <tr>\n",
       "      <th>Bean</th>\n",
       "      <td>0.485470</td>\n",
       "      <td>0.219275</td>\n",
       "    </tr>\n",
       "    <tr>\n",
       "      <th>Canberra</th>\n",
       "      <td>0.622832</td>\n",
       "      <td>0.268673</td>\n",
       "    </tr>\n",
       "    <tr>\n",
       "      <th>Fenner</th>\n",
       "      <td>0.525138</td>\n",
       "      <td>0.203332</td>\n",
       "    </tr>\n",
       "  </tbody>\n",
       "</table>\n",
       "<p>151 rows × 2 columns</p>\n",
       "</div>"
      ],
      "text/plain": [
       "           HE_percentage  HI_percentage\n",
       "CED                                    \n",
       "Banks           0.423576       0.126030\n",
       "Barton          0.459313       0.123338\n",
       "Bennelong       0.586280       0.188710\n",
       "Berowra         0.546013       0.225480\n",
       "Blaxland        0.302552       0.046420\n",
       "...                  ...            ...\n",
       "Lingiari        0.213892       0.113392\n",
       "Solomon         0.396256       0.168494\n",
       "Bean            0.485470       0.219275\n",
       "Canberra        0.622832       0.268673\n",
       "Fenner          0.525138       0.203332\n",
       "\n",
       "[151 rows x 2 columns]"
      ]
     },
     "execution_count": 16,
     "metadata": {},
     "output_type": "execute_result"
    }
   ],
   "source": [
    "#Create new dataset and calculate percentages for Higher education and High income people\n",
    "data = cd[(cd.HI_Count.notnull()) & (cd.HE_Count.notnull())][[\"CED\", \"HE_Count\", \"HI_Count\", \"Total_Count\"]]\n",
    "data = data.drop_duplicates()\n",
    "data = data.set_index(data.columns[0])\n",
    "data[\"HE_percentage\"] = data[\"HE_Count\"]/data[\"Total_Count\"]\n",
    "data[\"HI_percentage\"] = data[\"HI_Count\"]/data[\"Total_Count\"]\n",
    "data = data[[\"HE_percentage\", \"HI_percentage\"]]\n",
    "data"
   ]
  },
  {
   "cell_type": "markdown",
   "metadata": {},
   "source": [
    "Next we calculate the average age by CED. For this calculation, we will use the Expected Value formula instead of a mean:\n",
    "\n",
    "$$ E(x) = \\sum x*P(x)$$ \n",
    "\n",
    "Where:\n",
    "\n",
    "x - age value\n",
    "\n",
    "P(x) - amount of people of that age divided by total amount of people by CED"
   ]
  },
  {
   "cell_type": "code",
   "execution_count": 17,
   "metadata": {},
   "outputs": [
    {
     "data": {
      "text/plain": [
       "CED\n",
       "Adelaide    45.296779\n",
       "Aston       48.657678\n",
       "Ballarat    49.611584\n",
       "Banks       48.156554\n",
       "Barker      51.951830\n",
       "              ...    \n",
       "Werriwa     44.960272\n",
       "Whitlam     50.570156\n",
       "Wide Bay    54.162792\n",
       "Wills       44.421051\n",
       "Wright      48.308443\n",
       "Name: Avg_age, Length: 151, dtype: float64"
      ]
     },
     "execution_count": 17,
     "metadata": {},
     "output_type": "execute_result"
    }
   ],
   "source": [
    "#Create a temporary dataset and calculate the average age by CED\n",
    "ages = cd[[\"CED\", \"Age\", \"Group_Count\"]]\n",
    "ages = ages.groupby([\"CED\", \"Age\"]).sum().reset_index()\n",
    "ages = ages.set_index(ages.columns[0])\n",
    "ages[\"Total_Count\"] = cd.set_index(cd.columns[0])['Total_Count'].drop_duplicates()\n",
    "ages[\"Avg_age\"] = ages[\"Age\"]*ages[\"Group_Count\"]/ages[\"Total_Count\"]\n",
    "ages = ages.groupby(\"CED\")[\"Avg_age\"].sum()\n",
    "ages"
   ]
  },
  {
   "cell_type": "markdown",
   "metadata": {},
   "source": [
    "Next we unite all the data into a single dataframe."
   ]
  },
  {
   "cell_type": "code",
   "execution_count": 18,
   "metadata": {},
   "outputs": [
    {
     "data": {
      "text/html": [
       "<div>\n",
       "<style scoped>\n",
       "    .dataframe tbody tr th:only-of-type {\n",
       "        vertical-align: middle;\n",
       "    }\n",
       "\n",
       "    .dataframe tbody tr th {\n",
       "        vertical-align: top;\n",
       "    }\n",
       "\n",
       "    .dataframe thead th {\n",
       "        text-align: right;\n",
       "    }\n",
       "</style>\n",
       "<table border=\"1\" class=\"dataframe\">\n",
       "  <thead>\n",
       "    <tr style=\"text-align: right;\">\n",
       "      <th></th>\n",
       "      <th>HE_percentage</th>\n",
       "      <th>HI_percentage</th>\n",
       "      <th>Avg_Age</th>\n",
       "      <th>Election_result</th>\n",
       "    </tr>\n",
       "    <tr>\n",
       "      <th>CED</th>\n",
       "      <th></th>\n",
       "      <th></th>\n",
       "      <th></th>\n",
       "      <th></th>\n",
       "    </tr>\n",
       "  </thead>\n",
       "  <tbody>\n",
       "    <tr>\n",
       "      <th>Banks</th>\n",
       "      <td>0.423576</td>\n",
       "      <td>0.126030</td>\n",
       "      <td>48.156554</td>\n",
       "      <td>Liberal-National Coalition</td>\n",
       "    </tr>\n",
       "    <tr>\n",
       "      <th>Barton</th>\n",
       "      <td>0.459313</td>\n",
       "      <td>0.123338</td>\n",
       "      <td>45.707484</td>\n",
       "      <td>Australian Labor Party</td>\n",
       "    </tr>\n",
       "    <tr>\n",
       "      <th>Bennelong</th>\n",
       "      <td>0.586280</td>\n",
       "      <td>0.188710</td>\n",
       "      <td>46.155755</td>\n",
       "      <td>Australian Labor Party</td>\n",
       "    </tr>\n",
       "    <tr>\n",
       "      <th>Berowra</th>\n",
       "      <td>0.546013</td>\n",
       "      <td>0.225480</td>\n",
       "      <td>50.544414</td>\n",
       "      <td>Liberal-National Coalition</td>\n",
       "    </tr>\n",
       "    <tr>\n",
       "      <th>Blaxland</th>\n",
       "      <td>0.302552</td>\n",
       "      <td>0.046420</td>\n",
       "      <td>44.904064</td>\n",
       "      <td>Australian Labor Party</td>\n",
       "    </tr>\n",
       "    <tr>\n",
       "      <th>...</th>\n",
       "      <td>...</td>\n",
       "      <td>...</td>\n",
       "      <td>...</td>\n",
       "      <td>...</td>\n",
       "    </tr>\n",
       "    <tr>\n",
       "      <th>Lingiari</th>\n",
       "      <td>0.213892</td>\n",
       "      <td>0.113392</td>\n",
       "      <td>42.329036</td>\n",
       "      <td>Australian Labor Party</td>\n",
       "    </tr>\n",
       "    <tr>\n",
       "      <th>Solomon</th>\n",
       "      <td>0.396256</td>\n",
       "      <td>0.168494</td>\n",
       "      <td>43.248606</td>\n",
       "      <td>Australian Labor Party</td>\n",
       "    </tr>\n",
       "    <tr>\n",
       "      <th>Bean</th>\n",
       "      <td>0.485470</td>\n",
       "      <td>0.219275</td>\n",
       "      <td>47.387851</td>\n",
       "      <td>Australian Labor Party</td>\n",
       "    </tr>\n",
       "    <tr>\n",
       "      <th>Canberra</th>\n",
       "      <td>0.622832</td>\n",
       "      <td>0.268673</td>\n",
       "      <td>44.051329</td>\n",
       "      <td>Australian Labor Party</td>\n",
       "    </tr>\n",
       "    <tr>\n",
       "      <th>Fenner</th>\n",
       "      <td>0.525138</td>\n",
       "      <td>0.203332</td>\n",
       "      <td>43.188889</td>\n",
       "      <td>Australian Labor Party</td>\n",
       "    </tr>\n",
       "  </tbody>\n",
       "</table>\n",
       "<p>151 rows × 4 columns</p>\n",
       "</div>"
      ],
      "text/plain": [
       "           HE_percentage  HI_percentage    Avg_Age             Election_result\n",
       "CED                                                                           \n",
       "Banks           0.423576       0.126030  48.156554  Liberal-National Coalition\n",
       "Barton          0.459313       0.123338  45.707484      Australian Labor Party\n",
       "Bennelong       0.586280       0.188710  46.155755      Australian Labor Party\n",
       "Berowra         0.546013       0.225480  50.544414  Liberal-National Coalition\n",
       "Blaxland        0.302552       0.046420  44.904064      Australian Labor Party\n",
       "...                  ...            ...        ...                         ...\n",
       "Lingiari        0.213892       0.113392  42.329036      Australian Labor Party\n",
       "Solomon         0.396256       0.168494  43.248606      Australian Labor Party\n",
       "Bean            0.485470       0.219275  47.387851      Australian Labor Party\n",
       "Canberra        0.622832       0.268673  44.051329      Australian Labor Party\n",
       "Fenner          0.525138       0.203332  43.188889      Australian Labor Party\n",
       "\n",
       "[151 rows x 4 columns]"
      ]
     },
     "execution_count": 18,
     "metadata": {},
     "output_type": "execute_result"
    }
   ],
   "source": [
    "#Add all calculated values to a single dataset\n",
    "data[\"Avg_Age\"] = ages\n",
    "data[\"Election_result\"] = ed[\"PartyNm\"]\n",
    "data"
   ]
  },
  {
   "cell_type": "markdown",
   "metadata": {},
   "source": [
    "## Preliminary Analysis"
   ]
  },
  {
   "cell_type": "markdown",
   "metadata": {},
   "source": [
    "Now that the working dataset is successfully formed, we can first analyze it's variables and their distribution. To do so we will plot several graphs, depicting relationship between variables, as well as calculate the correlations."
   ]
  },
  {
   "cell_type": "code",
   "execution_count": 19,
   "metadata": {},
   "outputs": [
    {
     "data": {
      "text/plain": [
       "<Axes: xlabel='HE_percentage', ylabel='HI_percentage'>"
      ]
     },
     "execution_count": 19,
     "metadata": {},
     "output_type": "execute_result"
    },
    {
     "data": {
      "image/png": "[encoded data removed]",
      "text/plain": [
       "<Figure size 640x480 with 1 Axes>"
      ]
     },
     "metadata": {},
     "output_type": "display_data"
    }
   ],
   "source": [
    "sns.scatterplot(x = \"HE_percentage\", y = \"HI_percentage\", hue = \"Election_result\", data = data)"
   ]
  },
  {
   "cell_type": "code",
   "execution_count": 20,
   "metadata": {},
   "outputs": [
    {
     "data": {
      "text/plain": [
       "<Axes: xlabel='Avg_Age', ylabel='HI_percentage'>"
      ]
     },
     "execution_count": 20,
     "metadata": {},
     "output_type": "execute_result"
    },
    {
     "data": {
      "image/png": "[encoded data removed]",
      "text/plain": [
       "<Figure size 640x480 with 1 Axes>"
      ]
     },
     "metadata": {},
     "output_type": "display_data"
    }
   ],
   "source": [
    "sns.scatterplot(x = \"Avg_Age\", y = \"HI_percentage\", hue = \"Election_result\", data = data)"
   ]
  },
  {
   "cell_type": "code",
   "execution_count": 21,
   "metadata": {},
   "outputs": [
    {
     "data": {
      "text/plain": [
       "<Axes: xlabel='Avg_Age', ylabel='HE_percentage'>"
      ]
     },
     "execution_count": 21,
     "metadata": {},
     "output_type": "execute_result"
    },
    {
     "data": {
      "image/png": "[encoded data removed]",
      "text/plain": [
       "<Figure size 640x480 with 1 Axes>"
      ]
     },
     "metadata": {},
     "output_type": "display_data"
    }
   ],
   "source": [
    "sns.scatterplot(x = \"Avg_Age\", y = \"HE_percentage\", hue = \"Election_result\", data = data)"
   ]
  },
  {
   "cell_type": "code",
   "execution_count": 22,
   "metadata": {},
   "outputs": [
    {
     "data": {
      "text/html": [
       "<div>\n",
       "<style scoped>\n",
       "    .dataframe tbody tr th:only-of-type {\n",
       "        vertical-align: middle;\n",
       "    }\n",
       "\n",
       "    .dataframe tbody tr th {\n",
       "        vertical-align: top;\n",
       "    }\n",
       "\n",
       "    .dataframe thead th {\n",
       "        text-align: right;\n",
       "    }\n",
       "</style>\n",
       "<table border=\"1\" class=\"dataframe\">\n",
       "  <thead>\n",
       "    <tr style=\"text-align: right;\">\n",
       "      <th></th>\n",
       "      <th>HE_percentage</th>\n",
       "      <th>HI_percentage</th>\n",
       "      <th>Avg_Age</th>\n",
       "    </tr>\n",
       "  </thead>\n",
       "  <tbody>\n",
       "    <tr>\n",
       "      <th>HE_percentage</th>\n",
       "      <td>1.000000</td>\n",
       "      <td>0.851220</td>\n",
       "      <td>-0.444503</td>\n",
       "    </tr>\n",
       "    <tr>\n",
       "      <th>HI_percentage</th>\n",
       "      <td>0.851220</td>\n",
       "      <td>1.000000</td>\n",
       "      <td>-0.310442</td>\n",
       "    </tr>\n",
       "    <tr>\n",
       "      <th>Avg_Age</th>\n",
       "      <td>-0.444503</td>\n",
       "      <td>-0.310442</td>\n",
       "      <td>1.000000</td>\n",
       "    </tr>\n",
       "  </tbody>\n",
       "</table>\n",
       "</div>"
      ],
      "text/plain": [
       "               HE_percentage  HI_percentage   Avg_Age\n",
       "HE_percentage       1.000000       0.851220 -0.444503\n",
       "HI_percentage       0.851220       1.000000 -0.310442\n",
       "Avg_Age            -0.444503      -0.310442  1.000000"
      ]
     },
     "execution_count": 22,
     "metadata": {},
     "output_type": "execute_result"
    }
   ],
   "source": [
    "data[[\"HE_percentage\", \"HI_percentage\", \"Avg_Age\"]].corr()"
   ]
  },
  {
   "cell_type": "markdown",
   "metadata": {},
   "source": [
    "Judging by the graphs plotted above, we can see that:\n",
    "1) The educated and high-income percentages seem to be correlated, which is also confirmed by the correlation coefficient of .85\n",
    "2) If viewed in terms of a two-party system, i.e. Liberal-National coalition and Labor party, it seems that electoral districts with higher educated and high-income percentages and lower average age tend to vote for Labor, while the Coalition parties seem to be winning in districts that are on average older, less educated and lower income."
   ]
  },
  {
   "cell_type": "markdown",
   "metadata": {},
   "source": [
    "## Application of ML algorithms"
   ]
  },
  {
   "cell_type": "markdown",
   "metadata": {},
   "source": [
    "In this section we will apply ML algorithms to the data to try and build predictive models. First, we should start with preparing the data by Dncoding the winning party label by CED"
   ]
  },
  {
   "cell_type": "code",
   "execution_count": 23,
   "metadata": {},
   "outputs": [],
   "source": [
    "#Encode the Winning Party label\n",
    "ord_enc = LabelEncoder()\n",
    "data.loc[:, \"Election_result_enc\"] = ord_enc.fit_transform(data['Election_result'].to_numpy())"
   ]
  },
  {
   "cell_type": "code",
   "execution_count": 24,
   "metadata": {},
   "outputs": [
    {
     "data": {
      "text/html": [
       "<div>\n",
       "<style scoped>\n",
       "    .dataframe tbody tr th:only-of-type {\n",
       "        vertical-align: middle;\n",
       "    }\n",
       "\n",
       "    .dataframe tbody tr th {\n",
       "        vertical-align: top;\n",
       "    }\n",
       "\n",
       "    .dataframe thead th {\n",
       "        text-align: right;\n",
       "    }\n",
       "</style>\n",
       "<table border=\"1\" class=\"dataframe\">\n",
       "  <thead>\n",
       "    <tr style=\"text-align: right;\">\n",
       "      <th></th>\n",
       "      <th>HE_percentage</th>\n",
       "      <th>HI_percentage</th>\n",
       "      <th>Avg_Age</th>\n",
       "      <th>Election_result</th>\n",
       "      <th>Election_result_enc</th>\n",
       "    </tr>\n",
       "    <tr>\n",
       "      <th>CED</th>\n",
       "      <th></th>\n",
       "      <th></th>\n",
       "      <th></th>\n",
       "      <th></th>\n",
       "      <th></th>\n",
       "    </tr>\n",
       "  </thead>\n",
       "  <tbody>\n",
       "    <tr>\n",
       "      <th>Banks</th>\n",
       "      <td>0.423576</td>\n",
       "      <td>0.126030</td>\n",
       "      <td>48.156554</td>\n",
       "      <td>Liberal-National Coalition</td>\n",
       "      <td>4</td>\n",
       "    </tr>\n",
       "    <tr>\n",
       "      <th>Barton</th>\n",
       "      <td>0.459313</td>\n",
       "      <td>0.123338</td>\n",
       "      <td>45.707484</td>\n",
       "      <td>Australian Labor Party</td>\n",
       "      <td>0</td>\n",
       "    </tr>\n",
       "    <tr>\n",
       "      <th>Bennelong</th>\n",
       "      <td>0.586280</td>\n",
       "      <td>0.188710</td>\n",
       "      <td>46.155755</td>\n",
       "      <td>Australian Labor Party</td>\n",
       "      <td>0</td>\n",
       "    </tr>\n",
       "    <tr>\n",
       "      <th>Berowra</th>\n",
       "      <td>0.546013</td>\n",
       "      <td>0.225480</td>\n",
       "      <td>50.544414</td>\n",
       "      <td>Liberal-National Coalition</td>\n",
       "      <td>4</td>\n",
       "    </tr>\n",
       "    <tr>\n",
       "      <th>Blaxland</th>\n",
       "      <td>0.302552</td>\n",
       "      <td>0.046420</td>\n",
       "      <td>44.904064</td>\n",
       "      <td>Australian Labor Party</td>\n",
       "      <td>0</td>\n",
       "    </tr>\n",
       "    <tr>\n",
       "      <th>...</th>\n",
       "      <td>...</td>\n",
       "      <td>...</td>\n",
       "      <td>...</td>\n",
       "      <td>...</td>\n",
       "      <td>...</td>\n",
       "    </tr>\n",
       "    <tr>\n",
       "      <th>Lingiari</th>\n",
       "      <td>0.213892</td>\n",
       "      <td>0.113392</td>\n",
       "      <td>42.329036</td>\n",
       "      <td>Australian Labor Party</td>\n",
       "      <td>0</td>\n",
       "    </tr>\n",
       "    <tr>\n",
       "      <th>Solomon</th>\n",
       "      <td>0.396256</td>\n",
       "      <td>0.168494</td>\n",
       "      <td>43.248606</td>\n",
       "      <td>Australian Labor Party</td>\n",
       "      <td>0</td>\n",
       "    </tr>\n",
       "    <tr>\n",
       "      <th>Bean</th>\n",
       "      <td>0.485470</td>\n",
       "      <td>0.219275</td>\n",
       "      <td>47.387851</td>\n",
       "      <td>Australian Labor Party</td>\n",
       "      <td>0</td>\n",
       "    </tr>\n",
       "    <tr>\n",
       "      <th>Canberra</th>\n",
       "      <td>0.622832</td>\n",
       "      <td>0.268673</td>\n",
       "      <td>44.051329</td>\n",
       "      <td>Australian Labor Party</td>\n",
       "      <td>0</td>\n",
       "    </tr>\n",
       "    <tr>\n",
       "      <th>Fenner</th>\n",
       "      <td>0.525138</td>\n",
       "      <td>0.203332</td>\n",
       "      <td>43.188889</td>\n",
       "      <td>Australian Labor Party</td>\n",
       "      <td>0</td>\n",
       "    </tr>\n",
       "  </tbody>\n",
       "</table>\n",
       "<p>151 rows × 5 columns</p>\n",
       "</div>"
      ],
      "text/plain": [
       "           HE_percentage  HI_percentage    Avg_Age  \\\n",
       "CED                                                  \n",
       "Banks           0.423576       0.126030  48.156554   \n",
       "Barton          0.459313       0.123338  45.707484   \n",
       "Bennelong       0.586280       0.188710  46.155755   \n",
       "Berowra         0.546013       0.225480  50.544414   \n",
       "Blaxland        0.302552       0.046420  44.904064   \n",
       "...                  ...            ...        ...   \n",
       "Lingiari        0.213892       0.113392  42.329036   \n",
       "Solomon         0.396256       0.168494  43.248606   \n",
       "Bean            0.485470       0.219275  47.387851   \n",
       "Canberra        0.622832       0.268673  44.051329   \n",
       "Fenner          0.525138       0.203332  43.188889   \n",
       "\n",
       "                      Election_result  Election_result_enc  \n",
       "CED                                                         \n",
       "Banks      Liberal-National Coalition                    4  \n",
       "Barton         Australian Labor Party                    0  \n",
       "Bennelong      Australian Labor Party                    0  \n",
       "Berowra    Liberal-National Coalition                    4  \n",
       "Blaxland       Australian Labor Party                    0  \n",
       "...                               ...                  ...  \n",
       "Lingiari       Australian Labor Party                    0  \n",
       "Solomon        Australian Labor Party                    0  \n",
       "Bean           Australian Labor Party                    0  \n",
       "Canberra       Australian Labor Party                    0  \n",
       "Fenner         Australian Labor Party                    0  \n",
       "\n",
       "[151 rows x 5 columns]"
      ]
     },
     "execution_count": 24,
     "metadata": {},
     "output_type": "execute_result"
    }
   ],
   "source": [
    "data"
   ]
  },
  {
   "cell_type": "markdown",
   "metadata": {},
   "source": [
    "### Income-Education Linear Regression"
   ]
  },
  {
   "cell_type": "markdown",
   "metadata": {},
   "source": [
    "Here we will apply a linear regression model to try and predict if a CED would have higher high-income percentage if it has high higher-education percentage."
   ]
  },
  {
   "cell_type": "code",
   "execution_count": 25,
   "metadata": {},
   "outputs": [],
   "source": [
    "#Split the data into training and testing sets\n",
    "X_train, X_test, y_train, y_test = train_test_split(data[['HE_percentage']], data[['HI_percentage']], random_state = 69, test_size=0.15)"
   ]
  },
  {
   "cell_type": "code",
   "execution_count": 26,
   "metadata": {},
   "outputs": [
    {
     "name": "stdout",
     "output_type": "stream",
     "text": [
      "y = x * [[0.42680474]] + [-0.02641353]\n"
     ]
    }
   ],
   "source": [
    "#Apply linear regression model and output coefficients\n",
    "lm = LinearRegression()\n",
    "lm.fit(X_train, y_train)\n",
    "print(\"y = x *\", lm.coef_, \"+\", lm.intercept_)"
   ]
  },
  {
   "cell_type": "code",
   "execution_count": 27,
   "metadata": {},
   "outputs": [
    {
     "name": "stdout",
     "output_type": "stream",
     "text": [
      "MSE: 0.001474896655270532\n",
      "R Squared: 0.6578244334959371\n"
     ]
    }
   ],
   "source": [
    "#Compute and output the model's accuracy scores - R2 and MSE\n",
    "y_pred = lm.predict(X_test)\n",
    "mse = mean_squared_error(y_test, y_pred)\n",
    "r2 = r2_score(y_test, y_pred)\n",
    "print(\"MSE:\", mse)\n",
    "print(\"R Squared:\", r2)"
   ]
  },
  {
   "cell_type": "code",
   "execution_count": 28,
   "metadata": {},
   "outputs": [
    {
     "data": {
      "text/plain": [
       "<Axes: xlabel='HE_percentage', ylabel='HI_percentage'>"
      ]
     },
     "execution_count": 28,
     "metadata": {},
     "output_type": "execute_result"
    },
    {
     "data": {
      "image/png": "[encoded data removed]",
      "text/plain": [
       "<Figure size 640x480 with 1 Axes>"
      ]
     },
     "metadata": {},
     "output_type": "display_data"
    }
   ],
   "source": [
    "#Plot the data and the regression line\n",
    "slope = int(lm.coef_)\n",
    "intercept = int(lm.intercept_)\n",
    "sns.regplot(x=\"HE_percentage\", y=\"HI_percentage\", data=data)"
   ]
  },
  {
   "cell_type": "markdown",
   "metadata": {},
   "source": [
    "The model's parameters are calculated and it's line is plotted above. Judging by the accuracy parameters, the Mean Square Error is rather low, meaning that the model's predictions are fairly accurate. The R2 parameter is at 0.65, meaning it describes a moderate percentage of the data's variance."
   ]
  },
  {
   "cell_type": "markdown",
   "metadata": {},
   "source": [
    "### KNN Classification"
   ]
  },
  {
   "cell_type": "markdown",
   "metadata": {},
   "source": [
    "In this section we will apply the KNN algorithm to try and predict the outcome of an election in a CED by it's demographic parameters. To determine the best K hyperparameter for this model, we will conduct some cross-validation using GridSearchCV."
   ]
  },
  {
   "cell_type": "code",
   "execution_count": 29,
   "metadata": {},
   "outputs": [
    {
     "name": "stdout",
     "output_type": "stream",
     "text": [
      "39\n",
      "0.6745833333333333\n"
     ]
    }
   ],
   "source": [
    "#Determine the optimal K hyperparameter value by Cross-Validation\n",
    "X = data.drop(['Election_result', 'Election_result_enc'], axis = 1)\n",
    "y = data['Election_result_enc']\n",
    "\n",
    "parameter_grid = {'n_neighbors': range(1, 100, 1)}\n",
    "knn_clf = KNeighborsClassifier()\n",
    "\n",
    "gs_knn = GridSearchCV(knn_clf, parameter_grid, scoring = 'accuracy', cv = KFold(n_splits = 10, shuffle=True))\n",
    "gs_knn.fit(X.to_numpy(), y.to_numpy())\n",
    "\n",
    "print(gs_knn.best_params_['n_neighbors'])\n",
    "print(gs_knn.best_score_)"
   ]
  },
  {
   "cell_type": "code",
   "execution_count": 30,
   "metadata": {},
   "outputs": [],
   "source": [
    "#Split the data into training and testing sets\n",
    "X_train, X_test, y_train, y_test = train_test_split(X, y, random_state = 69, test_size=0.15)"
   ]
  },
  {
   "cell_type": "code",
   "execution_count": 31,
   "metadata": {},
   "outputs": [
    {
     "name": "stdout",
     "output_type": "stream",
     "text": [
      "KNN Accuracy is 0.782608695652174\n"
     ]
    }
   ],
   "source": [
    "#Apply the KNN model to our data with an optimal K value\n",
    "clf_knn = KNeighborsClassifier(n_neighbors=9)\n",
    "clf_knn.fit(X_train, y_train)\n",
    "\n",
    "#Compute and output the model's accuracy based on testing data\n",
    "y_pred = clf_knn.predict(X_test)\n",
    "accsy = accuracy_score(y_test, y_pred)\n",
    "print('KNN Accuracy is', accsy)"
   ]
  },
  {
   "cell_type": "markdown",
   "metadata": {},
   "source": [
    "We have trained the KNN model and evaluated the result. The model's tested is accuracy is at 0.78, which is a fairly high accuracy. Judging by this, we can conclude that demographic data of an electoral distirct can be used to predict an outcome of an election in said district with a reasonably high accuracy."
   ]
  },
  {
   "cell_type": "markdown",
   "metadata": {},
   "source": [
    "## Additional graphs"
   ]
  },
  {
   "cell_type": "markdown",
   "metadata": {},
   "source": [
    "In these section we will plot more graphs of our data to evaluate it a little more.\n",
    "\n",
    "In this section we will use the encoded winning party names to not clutter the plot."
   ]
  },
  {
   "cell_type": "code",
   "execution_count": 32,
   "metadata": {},
   "outputs": [
    {
     "data": {
      "text/plain": [
       "Election_result                  Election_result_enc\n",
       "Australian Labor Party           0                      77\n",
       "Centre Alliance                  1                       1\n",
       "Independent                      2                      10\n",
       "Katter's Australian Party (KAP)  3                       1\n",
       "Liberal-National Coalition       4                      58\n",
       "The Greens                       5                       4\n",
       "dtype: int64"
      ]
     },
     "execution_count": 32,
     "metadata": {},
     "output_type": "execute_result"
    }
   ],
   "source": [
    "#Display the party name and the corresponding encoded value\n",
    "data.groupby([\"Election_result\", \"Election_result_enc\"]).size()"
   ]
  },
  {
   "cell_type": "markdown",
   "metadata": {},
   "source": [
    "|Party name|Encoded label|\n",
    "|:-----:|:-----:|\n",
    "|Australian Labor Party|0|\n",
    "|Centre Alliance|1|\n",
    "|Independent|2|\n",
    "|Katter's Australian Party (KAP)|3|\n",
    "|Liberal-National Coalition|4|\n",
    "|The Greens|5|"
   ]
  },
  {
   "cell_type": "code",
   "execution_count": 33,
   "metadata": {},
   "outputs": [
    {
     "data": {
      "text/plain": [
       "<Axes: xlabel='Election_result_enc', ylabel='HI_percentage'>"
      ]
     },
     "execution_count": 33,
     "metadata": {},
     "output_type": "execute_result"
    },
    {
     "data": {
      "image/png": "[encoded data removed]",
      "text/plain": [
       "<Figure size 640x480 with 1 Axes>"
      ]
     },
     "metadata": {},
     "output_type": "display_data"
    }
   ],
   "source": [
    "sns.barplot(x = 'Election_result_enc', y = 'HI_percentage', data = data)"
   ]
  },
  {
   "cell_type": "code",
   "execution_count": 34,
   "metadata": {},
   "outputs": [
    {
     "data": {
      "text/plain": [
       "<Axes: xlabel='Election_result_enc', ylabel='HE_percentage'>"
      ]
     },
     "execution_count": 34,
     "metadata": {},
     "output_type": "execute_result"
    },
    {
     "data": {
      "image/png": "[encoded data removed]",
      "text/plain": [
       "<Figure size 640x480 with 1 Axes>"
      ]
     },
     "metadata": {},
     "output_type": "display_data"
    }
   ],
   "source": [
    "sns.barplot(x = 'Election_result_enc', y = 'HE_percentage', data = data)"
   ]
  },
  {
   "cell_type": "markdown",
   "metadata": {},
   "source": [
    "This is are plots of the party names against the mean percentage of high income and the mean percentage of higher education people in CEDs where they have won. As we can see, the most high-income and high-education districts tend to vote for The Greens and Independent candidates. Such districts are in the minority, however, since both those groups received very few seats in the Parliament in 2022 election.\n",
    "\n",
    "The next by popularity for high-income and high-education areas is the Australian Labor party, and this party won a significant amount of seats in Parliament. This relationship we could also observe on the graphs plotted in the Preliminary Analysis section."
   ]
  }
 ],
 "metadata": {
  "kernelspec": {
   "display_name": "base",
   "language": "python",
   "name": "python3"
  },
  "language_info": {
   "codemirror_mode": {
    "name": "ipython",
    "version": 3
   },
   "file_extension": ".py",
   "mimetype": "text/x-python",
   "name": "python",
   "nbconvert_exporter": "python",
   "pygments_lexer": "ipython3",
   "version": "3.11.5"
  }
 },
 "nbformat": 4,
 "nbformat_minor": 2
}
